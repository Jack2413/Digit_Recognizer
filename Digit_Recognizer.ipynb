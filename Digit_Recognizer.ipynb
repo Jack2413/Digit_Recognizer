{
  "nbformat": 4,
  "nbformat_minor": 0,
  "metadata": {
    "colab": {
      "name": "Digit_Recognizer.ipynb",
      "provenance": [],
      "collapsed_sections": []
    },
    "kernelspec": {
      "name": "python3",
      "display_name": "Python 3"
    }
  },
  "cells": [
    {
      "cell_type": "code",
      "metadata": {
        "id": "68z1O_zJaJ0A",
        "colab_type": "code",
        "outputId": "361e50fe-112b-4429-ccaf-db1f6cb1ee18",
        "colab": {
          "base_uri": "https://localhost:8080/",
          "height": 143
        }
      },
      "source": [
        "# Digit Recognizer python.3\n",
        "# -*- coding: utf-8 -*-\n",
        "# @Time    : 22/9/2019 \n",
        "# @Author  : Zhancheng Gan\n",
        "# @File    : Digit_Recognizer.py\n",
        "import keras\n",
        "from keras.preprocessing.image import ImageDataGenerator\n",
        "from keras.models import Sequential\n",
        "from keras.layers import Dense, Dropout, Flatten, Activation\n",
        "from keras.layers import Conv2D, MaxPooling2D, Convolution2D\n",
        "from keras.optimizers import Adam, RMSprop\n",
        "from keras.metrics import categorical_accuracy\n",
        "from keras import regularizers\n",
        "\n",
        "import tensorflow.compat.v1 as tf\n",
        "\n",
        "import numpy as np\n",
        "import random\n",
        "import pandas as pd\n",
        "import tensorflow as tf\n",
        "\n",
        "import matplotlib\n",
        "import matplotlib.pyplot as plt\n",
        "\n",
        "#connect google drive\n",
        "from google.colab import drive\n",
        "drive.mount('/content/drive')"
      ],
      "execution_count": 0,
      "outputs": [
        {
          "output_type": "stream",
          "text": [
            "Using TensorFlow backend.\n"
          ],
          "name": "stderr"
        },
        {
          "output_type": "stream",
          "text": [
            "Go to this URL in a browser: https://accounts.google.com/o/oauth2/auth?client_id=947318989803-6bn6qk8qdgf4n4g3pfee6491hc0brc4i.apps.googleusercontent.com&redirect_uri=urn%3Aietf%3Awg%3Aoauth%3A2.0%3Aoob&scope=email%20https%3A%2F%2Fwww.googleapis.com%2Fauth%2Fdocs.test%20https%3A%2F%2Fwww.googleapis.com%2Fauth%2Fdrive%20https%3A%2F%2Fwww.googleapis.com%2Fauth%2Fdrive.photos.readonly%20https%3A%2F%2Fwww.googleapis.com%2Fauth%2Fpeopleapi.readonly&response_type=code\n",
            "\n",
            "Enter your authorization code:\n",
            "··········\n",
            "Mounted at /content/drive\n"
          ],
          "name": "stdout"
        }
      ]
    },
    {
      "cell_type": "code",
      "metadata": {
        "id": "FyaxM2Ucac9e",
        "colab_type": "code",
        "outputId": "8f9a0e95-9e0a-4488-dc44-b17c2c6d5360",
        "colab": {
          "base_uri": "https://localhost:8080/",
          "height": 87
        }
      },
      "source": [
        "#load data path\n",
        "data_path = 'drive/My Drive/digit-recognizer.zip'\n",
        "from zipfile import ZipFile \n",
        "\n",
        "zf = ZipFile(data_path)\n",
        "zf.printdir()\n",
        "\n",
        "train = pd.read_csv(zf.open('train.csv'))\n",
        "test = pd.read_csv(zf.open('test.csv'))"
      ],
      "execution_count": 0,
      "outputs": [
        {
          "output_type": "stream",
          "text": [
            "File Name                                             Modified             Size\n",
            "train.csv                                      2018-04-26 17:53:26     76775041\n",
            "test.csv                                       2018-04-26 17:53:26     51118296\n",
            "sample_submission.csv                          2018-04-26 17:53:24       240909\n"
          ],
          "name": "stdout"
        }
      ]
    },
    {
      "cell_type": "code",
      "metadata": {
        "id": "iV5t-Xzwe0e4",
        "colab_type": "code",
        "outputId": "b2ed3232-62d7-467a-d653-02fe88a6f4b6",
        "colab": {
          "base_uri": "https://localhost:8080/",
          "height": 212
        }
      },
      "source": [
        "Y_train = train[\"label\"]\n",
        "\n",
        "# Drop 'label' column\n",
        "X_train = train.drop(labels = [\"label\"],axis = 1) \n",
        "\n",
        "Y_train.value_counts()\n",
        "\n"
      ],
      "execution_count": 0,
      "outputs": [
        {
          "output_type": "execute_result",
          "data": {
            "text/plain": [
              "1    4684\n",
              "7    4401\n",
              "3    4351\n",
              "9    4188\n",
              "2    4177\n",
              "6    4137\n",
              "0    4132\n",
              "4    4072\n",
              "8    4063\n",
              "5    3795\n",
              "Name: label, dtype: int64"
            ]
          },
          "metadata": {
            "tags": []
          },
          "execution_count": 3
        }
      ]
    },
    {
      "cell_type": "code",
      "metadata": {
        "id": "4sDjP0XImwo7",
        "colab_type": "code",
        "outputId": "603b686d-9b2e-4251-a70e-9cbb3ea5565e",
        "colab": {
          "base_uri": "https://localhost:8080/",
          "height": 105
        }
      },
      "source": [
        "# Check for null and missing values\n",
        "X_train.isnull().any().describe()\n",
        "test.isnull().any().describe()"
      ],
      "execution_count": 0,
      "outputs": [
        {
          "output_type": "execute_result",
          "data": {
            "text/plain": [
              "count       784\n",
              "unique        1\n",
              "top       False\n",
              "freq        784\n",
              "dtype: object"
            ]
          },
          "metadata": {
            "tags": []
          },
          "execution_count": 4
        }
      ]
    },
    {
      "cell_type": "code",
      "metadata": {
        "id": "OgQxjeM6mtlm",
        "colab_type": "code",
        "colab": {}
      },
      "source": [
        "# Normalize the data\n",
        "X_train = X_train / 255.0\n",
        "test = test / 255.0"
      ],
      "execution_count": 0,
      "outputs": []
    },
    {
      "cell_type": "code",
      "metadata": {
        "id": "piM_aTfvmupX",
        "colab_type": "code",
        "colab": {}
      },
      "source": [
        "# Reshape image in 3 dimensions (height = 28px, width = 28px , canal = 1)\n",
        "X_train = X_train.values.reshape(-1,28,28,1)\n",
        "test = test.values.reshape(-1,28,28,1)"
      ],
      "execution_count": 0,
      "outputs": []
    },
    {
      "cell_type": "code",
      "metadata": {
        "id": "GL8JWgiFn0YX",
        "colab_type": "code",
        "colab": {}
      },
      "source": [
        "# Encode labels to one hot vectors (ex : 2 -> [0,0,1,0,0,0,0,0,0,0])\n",
        "from keras.utils.np_utils import to_categorical\n",
        "Y_train = to_categorical(Y_train, num_classes = 10)\n"
      ],
      "execution_count": 0,
      "outputs": []
    },
    {
      "cell_type": "code",
      "metadata": {
        "id": "0RNxNzxnn_PF",
        "colab_type": "code",
        "colab": {}
      },
      "source": [
        "# from sklearn.model_selection import train_test_split\n",
        "# # Split the train and the validation set for the fitting\n",
        "# X_train, X_test, Y_train, Y_test = train_test_split(X_train, Y_train, test_size = 0.2, random_state=1211)"
      ],
      "execution_count": 0,
      "outputs": []
    },
    {
      "cell_type": "code",
      "metadata": {
        "id": "MX_hJfRLog5S",
        "colab_type": "code",
        "outputId": "30dc9753-deba-4612-a7fb-0dcd0101d013",
        "colab": {
          "base_uri": "https://localhost:8080/",
          "height": 268
        }
      },
      "source": [
        "# Some examples\n",
        "g = plt.imshow(X_train[0][:,:,0])"
      ],
      "execution_count": 0,
      "outputs": [
        {
          "output_type": "display_data",
          "data": {
            "image/png": "[encoded data removed]",
            "text/plain": [
              "<Figure size 432x288 with 1 Axes>"
            ]
          },
          "metadata": {
            "tags": []
          }
        }
      ]
    },
    {
      "cell_type": "code",
      "metadata": {
        "id": "H5TMLOCdm2OL",
        "colab_type": "code",
        "colab": {}
      },
      "source": [
        "# ImageDataGenerator \n",
        "datagen = ImageDataGenerator(\n",
        "        featurewise_center=False,  # set input mean to 0 over the dataset\n",
        "        samplewise_center=False,  # set each sample mean to 0\n",
        "        featurewise_std_normalization=False,  # divide inputs by std of the dataset\n",
        "        samplewise_std_normalization=False,  # divide each input by its std\n",
        "        zca_whitening=False,  # apply ZCA whitening\n",
        "        rotation_range=10,  # randomly rotate images in the range (degrees, 0 to 180)\n",
        "        zoom_range = 0.1, # Randomly zoom image \n",
        "        width_shift_range=0.1,  # randomly shift images horizontally (fraction of total width)\n",
        "        height_shift_range=0.1,  # randomly shift images vertically (fraction of total height)\n",
        "        horizontal_flip=False,  # randomly flip images\n",
        "        vertical_flip=False,\n",
        "        validation_split=0.8\n",
        ")  # randomly flip images\n",
        "\n",
        "datagen.fit(X_train)\n",
        "batch_size = 64\n",
        "train_data = datagen.flow(\n",
        "    X_train,\n",
        "    Y_train,\n",
        "    subset='training',\n",
        "    batch_size=batch_size\n",
        ")\n",
        "\n",
        "validation_data = datagen.flow(\n",
        "    X_train,\n",
        "    Y_train,\n",
        "    subset='validation',\n",
        "    batch_size=batch_size\n",
        ")\n"
      ],
      "execution_count": 0,
      "outputs": []
    },
    {
      "cell_type": "code",
      "metadata": {
        "id": "eWbPQoQnqfyq",
        "colab_type": "code",
        "outputId": "e6224785-5b14-4471-d1f8-04ed9aaf038a",
        "colab": {
          "base_uri": "https://localhost:8080/",
          "height": 338
        }
      },
      "source": [
        "model = Sequential()\n",
        "\n",
        "model.add(Conv2D(64, (5, 5), activation='relu',padding = 'Same',input_shape = (28,28,1)))\n",
        "model.add(MaxPooling2D(pool_size=(2, 2)))\n",
        "model.add(Conv2D(64, (5, 5), activation='relu',padding = 'Same'))\n",
        "model.add(MaxPooling2D(pool_size=(2, 2)))\n",
        "model.add(Dropout(0.25))\n",
        "\n",
        "model.add(Conv2D(128, (5, 5), activation='relu',padding = 'Same'))\n",
        "model.add(MaxPooling2D(pool_size=(2, 2)))\n",
        "model.add(Conv2D(128, (5, 5), activation='relu',padding = 'Same'))\n",
        "model.add(MaxPooling2D(pool_size=(2, 2)))\n",
        "model.add(Dropout(0.25))\n",
        "\n",
        "\n",
        "#add flatten layer\n",
        "model.add(Flatten())\n",
        "model.add(Dense(256, activation='relu'))\n",
        "model.add(Dropout(0.5))\n",
        "model.add(Dense(10, activation='softmax'))\n",
        "# model.summary()\n",
        "\n",
        "#Set optimizer\n",
        "adam = Adam(lr=0.001, beta_1=0.9, beta_2=0.999, epsilon=None, decay=0, amsgrad=True)\n",
        "RMSprop = RMSprop(lr=0.001, rho=0.9, epsilon=1e-08, decay=0.0)\n",
        "#model compile\n",
        "model.compile(loss='categorical_crossentropy', optimizer='adam', metrics=[categorical_accuracy])\n",
        "\n"
      ],
      "execution_count": 0,
      "outputs": [
        {
          "output_type": "stream",
          "text": [
            "WARNING:tensorflow:From /usr/local/lib/python3.6/dist-packages/keras/backend/tensorflow_backend.py:66: The name tf.get_default_graph is deprecated. Please use tf.compat.v1.get_default_graph instead.\n",
            "\n",
            "WARNING:tensorflow:From /usr/local/lib/python3.6/dist-packages/keras/backend/tensorflow_backend.py:541: The name tf.placeholder is deprecated. Please use tf.compat.v1.placeholder instead.\n",
            "\n",
            "WARNING:tensorflow:From /usr/local/lib/python3.6/dist-packages/keras/backend/tensorflow_backend.py:4432: The name tf.random_uniform is deprecated. Please use tf.random.uniform instead.\n",
            "\n",
            "WARNING:tensorflow:From /usr/local/lib/python3.6/dist-packages/keras/backend/tensorflow_backend.py:4267: The name tf.nn.max_pool is deprecated. Please use tf.nn.max_pool2d instead.\n",
            "\n",
            "WARNING:tensorflow:From /usr/local/lib/python3.6/dist-packages/keras/backend/tensorflow_backend.py:148: The name tf.placeholder_with_default is deprecated. Please use tf.compat.v1.placeholder_with_default instead.\n",
            "\n",
            "WARNING:tensorflow:From /usr/local/lib/python3.6/dist-packages/keras/backend/tensorflow_backend.py:3733: calling dropout (from tensorflow.python.ops.nn_ops) with keep_prob is deprecated and will be removed in a future version.\n",
            "Instructions for updating:\n",
            "Please use `rate` instead of `keep_prob`. Rate should be set to `rate = 1 - keep_prob`.\n",
            "WARNING:tensorflow:From /usr/local/lib/python3.6/dist-packages/keras/optimizers.py:793: The name tf.train.Optimizer is deprecated. Please use tf.compat.v1.train.Optimizer instead.\n",
            "\n",
            "WARNING:tensorflow:From /usr/local/lib/python3.6/dist-packages/keras/backend/tensorflow_backend.py:3576: The name tf.log is deprecated. Please use tf.math.log instead.\n",
            "\n"
          ],
          "name": "stdout"
        }
      ]
    },
    {
      "cell_type": "code",
      "metadata": {
        "id": "YajpfvPDuAT2",
        "colab_type": "code",
        "colab": {}
      },
      "source": [
        "#add callback function\n",
        "from keras.callbacks import TensorBoard\n",
        "from keras.callbacks import ModelCheckpoint\n",
        "from keras.callbacks import EarlyStopping\n",
        "from keras.callbacks import ReduceLROnPlateau\n",
        "\n",
        "tbCallBack = TensorBoard(log_dir='log',histogram_freq=0,write_graph=True,write_images=False)\n",
        "checkpoint = ModelCheckpoint(filepath='drive/My Drive/Colab Notebooks/model/best_aptos_model.hdf5',save_best_only='True',monitor='val_loss')\n",
        "earlyStop = EarlyStopping(monitor='val_loss', min_delta=0, patience=10, verbose=0, mode='auto')\n",
        "reduce_lr = ReduceLROnPlateau(monitor='val_loss', factor=0.2, patience=3, min_lr=0.000001)\n",
        "\n",
        "callback = [tbCallBack,checkpoint,earlyStop,reduce_lr]\n"
      ],
      "execution_count": 0,
      "outputs": []
    },
    {
      "cell_type": "code",
      "metadata": {
        "id": "WtQEf3QruK-U",
        "colab_type": "code",
        "outputId": "4bc99346-bb6f-40fe-9a7f-1d3f6e251565",
        "colab": {
          "base_uri": "https://localhost:8080/"
        }
      },
      "source": [
        "history = model.fit_generator(\n",
        "        train_data,\n",
        "        steps_per_epoch=len(train_data),\n",
        "        verbose=1, \n",
        "        epochs=200,\n",
        "        validation_data=validation_data,\n",
        "        validation_steps=len(validation_data),\n",
        "        callbacks=callback \n",
        ") "
      ],
      "execution_count": 0,
      "outputs": [
        {
          "output_type": "stream",
          "text": [
            "WARNING:tensorflow:From /usr/local/lib/python3.6/dist-packages/tensorflow/python/ops/math_grad.py:1250: add_dispatch_support.<locals>.wrapper (from tensorflow.python.ops.array_ops) is deprecated and will be removed in a future version.\n",
            "Instructions for updating:\n",
            "Use tf.where in 2.0, which has the same broadcast rule as np.where\n",
            "WARNING:tensorflow:From /usr/local/lib/python3.6/dist-packages/keras/callbacks.py:1122: The name tf.summary.merge_all is deprecated. Please use tf.compat.v1.summary.merge_all instead.\n",
            "\n",
            "WARNING:tensorflow:From /usr/local/lib/python3.6/dist-packages/keras/callbacks.py:1125: The name tf.summary.FileWriter is deprecated. Please use tf.compat.v1.summary.FileWriter instead.\n",
            "\n",
            "Epoch 1/200\n",
            "132/132 [==============================] - 103s 784ms/step - loss: 1.4945 - categorical_accuracy: 0.4621 - val_loss: 0.4032 - val_categorical_accuracy: 0.8883\n",
            "Epoch 2/200\n",
            "132/132 [==============================] - 101s 765ms/step - loss: 0.3704 - categorical_accuracy: 0.8897 - val_loss: 0.1994 - val_categorical_accuracy: 0.9418\n",
            "Epoch 3/200\n",
            "132/132 [==============================] - 101s 763ms/step - loss: 0.2513 - categorical_accuracy: 0.9300 - val_loss: 0.1449 - val_categorical_accuracy: 0.9579\n",
            "Epoch 4/200\n",
            "132/132 [==============================] - 101s 766ms/step - loss: 0.1874 - categorical_accuracy: 0.9458 - val_loss: 0.1389 - val_categorical_accuracy: 0.9597\n",
            "Epoch 5/200\n",
            "132/132 [==============================] - 101s 767ms/step - loss: 0.1607 - categorical_accuracy: 0.9543 - val_loss: 0.1004 - val_categorical_accuracy: 0.9712\n",
            "Epoch 6/200\n",
            "132/132 [==============================] - 101s 768ms/step - loss: 0.1425 - categorical_accuracy: 0.9571 - val_loss: 0.0964 - val_categorical_accuracy: 0.9721\n",
            "Epoch 7/200\n",
            "132/132 [==============================] - 101s 762ms/step - loss: 0.1273 - categorical_accuracy: 0.9631 - val_loss: 0.1132 - val_categorical_accuracy: 0.9680\n",
            "Epoch 8/200\n",
            "132/132 [==============================] - 101s 768ms/step - loss: 0.1144 - categorical_accuracy: 0.9704 - val_loss: 0.0868 - val_categorical_accuracy: 0.9763\n",
            "Epoch 9/200\n",
            "132/132 [==============================] - 103s 777ms/step - loss: 0.1031 - categorical_accuracy: 0.9686 - val_loss: 0.0904 - val_categorical_accuracy: 0.9761\n",
            "Epoch 10/200\n",
            "132/132 [==============================] - 102s 773ms/step - loss: 0.1028 - categorical_accuracy: 0.9716 - val_loss: 0.0937 - val_categorical_accuracy: 0.9756\n",
            "Epoch 11/200\n",
            "132/132 [==============================] - 101s 766ms/step - loss: 0.1036 - categorical_accuracy: 0.9686 - val_loss: 0.1024 - val_categorical_accuracy: 0.9746\n",
            "Epoch 12/200\n",
            "132/132 [==============================] - 102s 771ms/step - loss: 0.0698 - categorical_accuracy: 0.9802 - val_loss: 0.0581 - val_categorical_accuracy: 0.9836\n",
            "Epoch 13/200\n",
            "132/132 [==============================] - 101s 765ms/step - loss: 0.0584 - categorical_accuracy: 0.9837 - val_loss: 0.0637 - val_categorical_accuracy: 0.9829\n",
            "Epoch 14/200\n",
            "132/132 [==============================] - 103s 783ms/step - loss: 0.0524 - categorical_accuracy: 0.9846 - val_loss: 0.0575 - val_categorical_accuracy: 0.9846\n",
            "Epoch 15/200\n",
            "132/132 [==============================] - 101s 763ms/step - loss: 0.0479 - categorical_accuracy: 0.9856 - val_loss: 0.0609 - val_categorical_accuracy: 0.9843\n",
            "Epoch 16/200\n",
            "132/132 [==============================] - 102s 770ms/step - loss: 0.0507 - categorical_accuracy: 0.9859 - val_loss: 0.0600 - val_categorical_accuracy: 0.9839\n",
            "Epoch 17/200\n",
            "132/132 [==============================] - 102s 773ms/step - loss: 0.0536 - categorical_accuracy: 0.9846 - val_loss: 0.0536 - val_categorical_accuracy: 0.9854\n",
            "Epoch 18/200\n",
            "132/132 [==============================] - 101s 764ms/step - loss: 0.0463 - categorical_accuracy: 0.9878 - val_loss: 0.0575 - val_categorical_accuracy: 0.9848\n",
            "Epoch 19/200\n",
            "132/132 [==============================] - 101s 765ms/step - loss: 0.0385 - categorical_accuracy: 0.9877 - val_loss: 0.0547 - val_categorical_accuracy: 0.9856\n",
            "Epoch 20/200\n",
            "132/132 [==============================] - 101s 764ms/step - loss: 0.0447 - categorical_accuracy: 0.9877 - val_loss: 0.0541 - val_categorical_accuracy: 0.9853\n",
            "Epoch 21/200\n",
            "132/132 [==============================] - 102s 773ms/step - loss: 0.0357 - categorical_accuracy: 0.9908 - val_loss: 0.0526 - val_categorical_accuracy: 0.9863\n",
            "Epoch 22/200\n",
            "132/132 [==============================] - 102s 777ms/step - loss: 0.0350 - categorical_accuracy: 0.9892 - val_loss: 0.0557 - val_categorical_accuracy: 0.9855\n",
            "Epoch 23/200\n",
            "132/132 [==============================] - 102s 773ms/step - loss: 0.0310 - categorical_accuracy: 0.9914 - val_loss: 0.0513 - val_categorical_accuracy: 0.9866\n",
            "Epoch 24/200\n",
            "132/132 [==============================] - 101s 769ms/step - loss: 0.0307 - categorical_accuracy: 0.9911 - val_loss: 0.0539 - val_categorical_accuracy: 0.9860\n",
            "Epoch 25/200\n",
            "132/132 [==============================] - 101s 764ms/step - loss: 0.0350 - categorical_accuracy: 0.9891 - val_loss: 0.0522 - val_categorical_accuracy: 0.9862\n",
            "Epoch 26/200\n",
            "132/132 [==============================] - 103s 781ms/step - loss: 0.0287 - categorical_accuracy: 0.9917 - val_loss: 0.0524 - val_categorical_accuracy: 0.9858\n",
            "Epoch 27/200\n",
            "132/132 [==============================] - 101s 765ms/step - loss: 0.0305 - categorical_accuracy: 0.9911 - val_loss: 0.0507 - val_categorical_accuracy: 0.9861\n",
            "Epoch 28/200\n",
            "132/132 [==============================] - 103s 782ms/step - loss: 0.0292 - categorical_accuracy: 0.9904 - val_loss: 0.0497 - val_categorical_accuracy: 0.9868\n",
            "Epoch 29/200\n",
            "132/132 [==============================] - 102s 774ms/step - loss: 0.0305 - categorical_accuracy: 0.9909 - val_loss: 0.0525 - val_categorical_accuracy: 0.9863\n",
            "Epoch 30/200\n",
            "132/132 [==============================] - 101s 766ms/step - loss: 0.0320 - categorical_accuracy: 0.9912 - val_loss: 0.0525 - val_categorical_accuracy: 0.9865\n",
            "Epoch 31/200\n",
            "132/132 [==============================] - 101s 765ms/step - loss: 0.0279 - categorical_accuracy: 0.9921 - val_loss: 0.0556 - val_categorical_accuracy: 0.9854\n",
            "Epoch 32/200\n",
            "132/132 [==============================] - 101s 765ms/step - loss: 0.0318 - categorical_accuracy: 0.9904 - val_loss: 0.0522 - val_categorical_accuracy: 0.9860\n",
            "Epoch 33/200\n",
            "132/132 [==============================] - 101s 768ms/step - loss: 0.0343 - categorical_accuracy: 0.9902 - val_loss: 0.0511 - val_categorical_accuracy: 0.9865\n",
            "Epoch 34/200\n",
            "132/132 [==============================] - 100s 758ms/step - loss: 0.0298 - categorical_accuracy: 0.9920 - val_loss: 0.0515 - val_categorical_accuracy: 0.9868\n",
            "Epoch 35/200\n",
            "132/132 [==============================] - 102s 769ms/step - loss: 0.0342 - categorical_accuracy: 0.9898 - val_loss: 0.0519 - val_categorical_accuracy: 0.9863\n",
            "Epoch 36/200\n",
            "132/132 [==============================] - 101s 763ms/step - loss: 0.0282 - categorical_accuracy: 0.9906 - val_loss: 0.0524 - val_categorical_accuracy: 0.9863\n",
            "Epoch 37/200\n",
            "132/132 [==============================] - 102s 772ms/step - loss: 0.0283 - categorical_accuracy: 0.9921 - val_loss: 0.0540 - val_categorical_accuracy: 0.9865\n",
            "Epoch 38/200\n",
            "132/132 [==============================] - 102s 774ms/step - loss: 0.0303 - categorical_accuracy: 0.9918 - val_loss: 0.0517 - val_categorical_accuracy: 0.9868\n"
          ],
          "name": "stdout"
        }
      ]
    },
    {
      "cell_type": "code",
      "metadata": {
        "id": "96pllhf_oOtJ",
        "colab_type": "code",
        "outputId": "4010f1c6-69b0-461b-98fb-17d0760c338f",
        "colab": {
          "base_uri": "https://localhost:8080/"
        }
      },
      "source": [
        "# Model evaluation\n",
        "# load the best model just saved\n",
        "model.load_weights('drive/My Drive/Colab Notebooks/model/best_aptos_model.hdf5')\n",
        "loss_and_metrics = model.evaluate_generator(validation_data,len(validation_data))\n",
        "# print out the test result\n",
        "print('Test loss:{}\\nTest accuracy:{}'.format(loss_and_metrics[0], loss_and_metrics[1]))"
      ],
      "execution_count": 0,
      "outputs": [
        {
          "output_type": "stream",
          "text": [
            "Test loss:0.05020577809511451\n",
            "Test accuracy:0.986547619047619\n"
          ],
          "name": "stdout"
        }
      ]
    },
    {
      "cell_type": "code",
      "metadata": {
        "id": "xXRU91SpogA8",
        "colab_type": "code",
        "outputId": "e65426ec-01a5-4d25-cbf5-eee6500f992a",
        "colab": {
          "base_uri": "https://localhost:8080/",
          "height": 573
        }
      },
      "source": [
        "# model result visualization\n",
        "history_dict = history.history\n",
        "\n",
        "#plot the visualizations\n",
        "import matplotlib.pyplot as plt\n",
        "\n",
        "acc = history_dict['categorical_accuracy']\n",
        "val_acc = history_dict['val_categorical_accuracy']\n",
        "loss = history_dict['loss']\n",
        "val_loss = history_dict['val_loss']\n",
        "\n",
        "epochs = range(1, len(acc) + 1)\n",
        "\n",
        "plt.plot(epochs, loss, 'b', label='Training loss')\n",
        "plt.plot(epochs, val_loss, 'r', label='Validation loss')\n",
        "plt.title('Training and validation loss')\n",
        "plt.xlabel('Epochs')\n",
        "plt.ylabel('Loss')\n",
        "plt.legend()\n",
        "\n",
        "plt.show()\n",
        "\n",
        "plt.clf() \n",
        "\n",
        "plt.plot(epochs, acc, 'b', label='Training acc')\n",
        "plt.plot(epochs, val_acc, 'r', label='Validation acc')\n",
        "plt.title('Training and validation accuracy')\n",
        "plt.xlabel('Epochs')\n",
        "plt.ylabel('Accuracy')\n",
        "plt.legend()\n",
        "\n",
        "plt.show()"
      ],
      "execution_count": 0,
      "outputs": [
        {
          "output_type": "display_data",
          "data": {
            "image/png": "[encoded data removed]",
            "text/plain": [
              "<Figure size 432x288 with 1 Axes>"
            ]
          },
          "metadata": {
            "tags": []
          }
        },
        {
          "output_type": "display_data",
          "data": {
            "image/png": "[encoded data removed]",
            "text/plain": [
              "<Figure size 432x288 with 1 Axes>"
            ]
          },
          "metadata": {
            "tags": []
          }
        }
      ]
    },
    {
      "cell_type": "code",
      "metadata": {
        "id": "PEktoxEvpbuy",
        "colab_type": "code",
        "colab": {}
      },
      "source": [
        ""
      ],
      "execution_count": 0,
      "outputs": []
    },
    {
      "cell_type": "code",
      "metadata": {
        "id": "2j-08wpZXxWN",
        "colab_type": "code",
        "outputId": "e1207950-338f-46c2-a65d-4d2412fa63c9",
        "colab": {
          "base_uri": "https://localhost:8080/",
          "height": 34
        }
      },
      "source": [
        "from tqdm import tqdm\n",
        "tta_steps = 10\n",
        "predictions = []\n",
        "\n",
        "for i in tqdm(range(tta_steps)):\n",
        "    preds = model.predict(test)\n",
        "    predictions.append(preds)\n",
        "\n",
        "pred = np.mean(predictions, axis=0)\n"
      ],
      "execution_count": 0,
      "outputs": [
        {
          "output_type": "stream",
          "text": [
            "100%|██████████| 10/10 [05:22<00:00, 32.19s/it]\n"
          ],
          "name": "stderr"
        }
      ]
    },
    {
      "cell_type": "code",
      "metadata": {
        "id": "7_cPN1PrrXOL",
        "colab_type": "code",
        "colab": {}
      },
      "source": [
        "# predict results\n",
        "#results = model.predict(test)\n",
        "# select the indix with the maximum probability\n",
        "results = np.argmax(pred,axis = 1)\n",
        "\n",
        "sample = pd.read_csv(zf.open('sample_submission.csv'))\n",
        "sample.Label = results.astype(int)\n",
        "sample.to_csv(\"drive/My Drive/submission.csv\", index=False)"
      ],
      "execution_count": 0,
      "outputs": []
    }
  ]
}